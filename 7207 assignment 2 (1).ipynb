{
 "cells": [
  {
   "cell_type": "markdown",
   "id": "4a620077-b7ff-486e-a300-6611a5777e08",
   "metadata": {},
   "source": [
    "# Assignment 2: Fine-Tuning a Language Model for an NLP Problem"
   ]
  },
  {
   "cell_type": "markdown",
   "id": "66cbe0a1-e7ba-424e-a339-59c8fcda842f",
   "metadata": {},
   "source": [
    "# I、Introduction"
   ]
  },
  {
   "cell_type": "markdown",
   "id": "9cd23b44-e84c-4c83-88e9-64a8191bfc57",
   "metadata": {},
   "source": [
    "## 1. Task Description:"
   ]
  },
  {
   "cell_type": "markdown",
   "id": "5cef0161-5ba9-43ff-a37a-e311a7347291",
   "metadata": {},
   "source": [
    "The aim of this project is to perform cryptocurrency tweet classification by first obtaining the Bitcoin tweets [sentiment analysis] dataset from kaggle, then performing data preprocessing including data cleaning, text encoding preprocessing, and dealing with data imbalance, followed by model construction and fine-tuning, and finally performing model evaluation through visualization and result analysis, and summarizing and discussing the obstacles encountered and solutions employed and potential improvements or future directions.\n",
    "\n",
    "This experiment is accomplished by renting NVIDIA RTX 3090 (24GB) GPU resources provided by the AutoDL platform."
   ]
  },
  {
   "cell_type": "markdown",
   "id": "1cd10cc1-2693-433d-beb1-9f1fd8ad9248",
   "metadata": {},
   "source": [
    "## 2. Reasons for topic selection"
   ]
  },
  {
   "cell_type": "markdown",
   "id": "9be1c714-b0dc-4210-ac07-1bba8eec814c",
   "metadata": {},
   "source": [
    "Cryptocurrencies are decentralized digital assets based on blockchain technology, securing transactions through cryptography and featuring anonymity, tamperability and global circulation. The mainstream cryptocurrencies are Bitcoin and Ether. It serves as a new payment tool that bypasses the traditional banking system, effectively reducing the cost of remittances, and has become a high-risk, high-yield asset to invest in due to its much higher volatility than stocks and gold.\n",
    "\n",
    "And changes in people's sentiment toward cryptocurrencies can have a profound effect on prices, liquidity, duration structures and even the entire financial ecosystem. For example, in 2021 when Musk announced that Tesla was suspending Bitcoin payments, the price of Bitcoin plummeted 15% in 24 hours, while DOGE rose over 12,000% in 2021 due to the collective bullish sentiment of the Reddit community and celebrity tweets. And while positive sentiment can lead to more people buying, so the bid-ask spread narrows, transactions are more frequent, and the market comes alive, negative sentiment can cause liquidity to dry up and prices to plummet, paralyzing the market completely. Being able to categorize and then predict the direction of people's emotions, we can know the trend of cryptocurrency prices, liquidity and other changes, and we can effectively respond.\n",
    "\n",
    "For example, individual investors can find the right time to bottom out or reduce their positions; institutional investors can combine sentiment and market liquidity for strategic analysis, such as high-frequency market-making to earn spreads when sentiment is positive and order volume increases; cryptocurrency exchanges can manage liquidity and protect users, such as pop-up windows to prompt risks when sentiment is too high; regulators can carry out market monitoring and policy intervention."
   ]
  },
  {
   "cell_type": "markdown",
   "id": "b877c3f8-c76e-4fea-adc3-588ccf0bf689",
   "metadata": {},
   "source": [
    "## 3. Reasons for choosing the BERT model"
   ]
  },
  {
   "cell_type": "markdown",
   "id": "2c38aead-4585-44ec-b873-68f15b4c7252",
   "metadata": {},
   "source": [
    "First, BERT allows for two-way parsing.BERT uses the Encoder part of the Transformer, which allows the model to take into account all the other elements in the sequence as it processes each element, and can encode each word while taking into account its contextual meaning, whereas the LSTM processes sequences sequentially, and can only access information about the context prior to that element, and cannot access the entire sequence at once, as BERT can. LSTM processes sequences sequentially and can only access the context information before the element, but not the context of the whole sequence at the same time as BERT does.\n",
    "\n",
    "Secondly, BERT can process the whole sequence in parallel due to the self-attention mechanism, which greatly speeds up the training of the model, while LSTM needs to process the sequence step by step and consumes more time due to its circular structure.\n",
    "\n",
    "Meanwhile, BERT can capture long-distance dependencies more effectively, and because it is bigger and more complex than LSTM model with more parameters, it can capture more deep information such as utterance structure and semantic structure, and it has better training effect\n",
    "\n",
    "Therefore, BERT performs better in deep understanding of context in this task, so BERT model is chosen."
   ]
  },
  {
   "cell_type": "markdown",
   "id": "ac38fb73-1bc1-4b3d-b9ef-f71ccf666dfd",
   "metadata": {},
   "source": [
    "# II、Data preprocessing"
   ]
  },
  {
   "cell_type": "markdown",
   "id": "fa91c479-9504-4de1-879a-f9e092b5d972",
   "metadata": {},
   "source": [
    "## 1.Data Set Acquisition"
   ]
  },
  {
   "cell_type": "markdown",
   "id": "53903380-97ba-4ddd-8aba-1b4839f9def2",
   "metadata": {},
   "source": [
    "By comparing the contents of several kaggle and hugging face datasets, a dataset with a moderate amount of data and labeling was chosen: The Bitcoin tweets [Sentiment Analysis] dataset from kaggle has 77,398 texts, which are categorized into NEUTRAL, NEGATIVE, and POSITIVE sentiment. However, this project is going to remove the categorization of NEUTRAL, and carry out NEGATIVE and POSITIVE binary classification model training."
   ]
  },
  {
   "cell_type": "markdown",
   "id": "a6c337d3-b1c5-45bc-be7d-d72a75b22499",
   "metadata": {},
   "source": [
    "## 2.Data Cleaning"
   ]
  },
  {
   "cell_type": "markdown",
   "id": "69ed22dc-af8d-4f71-b245-1c0004249f43",
   "metadata": {},
   "source": [
    "remove all Neutral labeled samples and keep only the Positive and Negative categories."
   ]
  },
  {
   "cell_type": "code",
   "execution_count": 33,
   "id": "aac6e8aa-45d6-463b-8e80-a1c70848b397",
   "metadata": {},
   "outputs": [
    {
     "name": "stdout",
     "output_type": "stream",
     "text": [
      "                                                text sentiment_label\n",
      "3  In 2017, miners attempted to assert control ov...        Negative\n",
      "4  Yearly Close \\r\\nMonthly Close\\r\\nDaily Close\\...        Positive\n",
      "5  $BTC\\r\\n\\r\\nBitcoin just closed the yearly can...        Positive\n",
      "6  Bitcoin's 2021 yearly candle in the books!\\r\\n...        Positive\n",
      "8  Looks like #Bitcoin is heading into 2022 with ...        Negative\n",
      "Current Rows: 34139\n"
     ]
    },
    {
     "name": "stderr",
     "output_type": "stream",
     "text": [
      "/tmp/ipykernel_835/551558673.py:5: DtypeWarning: Columns (4,5,12,13) have mixed types. Specify dtype option on import or set low_memory=False.\n",
      "  raw_data = pd.read_csv(file_path) #initial data\n"
     ]
    }
   ],
   "source": [
    "import pandas as pd\n",
    "\n",
    "# Reading CSV files\n",
    "file_path = './tweets2.csv'  # Make sure the path is correct\n",
    "raw_data = pd.read_csv(file_path) #initial data\n",
    "\n",
    "#Extract data from the text and sentiment_label columns\n",
    "processed_data = raw_data[['text', 'sentiment_label']]  \n",
    "# 1. extract the negative and positive columns for the binary classification problem\n",
    "filtered_data = processed_data[processed_data['sentiment_label'].isin(['Negative', 'Positive'])]\n",
    "# 2. Delete duplicate lines with the same text in the text column.\n",
    "cleaned_data = filtered_data.drop_duplicates(subset='text')  \n",
    "\n",
    "# Displays the first few lines of data to confirm a successful read\n",
    "print(cleaned_data.head())\n",
    "num_rows = filtered_data.shape[0]\n",
    "print(f\"Current Rows: {num_rows}\") #Print the current line number"
   ]
  },
  {
   "cell_type": "markdown",
   "id": "140a1d68-15d9-4568-a7c8-5c68333b85d3",
   "metadata": {},
   "source": [
    "Problems encountered: UnicodeDecodeError on Linux systems because the file was not encoded in UTF-8. I saved all the contents of the file again in UTF-8."
   ]
  },
  {
   "cell_type": "code",
   "execution_count": 35,
   "id": "d85057fd-f2f0-40cd-996f-ebcc38954ae2",
   "metadata": {
    "tags": []
   },
   "outputs": [
    {
     "name": "stdout",
     "output_type": "stream",
     "text": [
      "                                                text sentiment_label\n",
      "3  In 2017, miners attempted to assert control ov...        Negative\n",
      "4  Yearly Close \\r\\nMonthly Close\\r\\nDaily Close\\...        Positive\n",
      "5  $BTC\\r\\n\\r\\nBitcoin just closed the yearly can...        Positive\n",
      "6  Bitcoin's 2021 yearly candle in the books!\\r\\n...        Positive\n",
      "8  Looks like #Bitcoin is heading into 2022 with ...        Negative\n",
      "Current Rows: 33028\n"
     ]
    }
   ],
   "source": [
    "import re\n",
    "from langdetect import detect, LangDetectException\n",
    "\n",
    "# 3.Remove noise and missing values: user mentions (@user), links (http://), special symbols (e.g. #BTC reserved for BTC).\n",
    "def preprocess_text(text):\n",
    "    # Handling missing values in data\n",
    "    if pd.isna(text):\n",
    "        return \"\"\n",
    "    # Remove User Mentions\n",
    "    text = re.sub(r'@\\w+', '', text)\n",
    "    # Remove link\n",
    "    text = re.sub(r'http\\S+', '', text)\n",
    "    # Remove special symbols\n",
    "    text = re.sub(r'[^\\w\\s]', '', text)\n",
    "    return text\n",
    "\n",
    "# 4.Filter non-English parts, refer to deepseek's code\n",
    "def is_english(text):\n",
    "    try:\n",
    "        cleaned_text = preprocess_text(text)  # Clean the text first\n",
    "        if len(cleaned_text) < 3:             # Skip to short text\n",
    "            return False\n",
    "        return detect(cleaned_text) == 'en'   # Detect if English\n",
    "    except LangDetectException:\n",
    "        return False\n",
    "\n",
    "cleaned_data = cleaned_data[cleaned_data['text'].apply(is_english)]\n",
    "print(cleaned_data.head())\n",
    "print(f\"Current Rows: {cleaned_data.shape[0]}\")"
   ]
  },
  {
   "cell_type": "code",
   "execution_count": 36,
   "id": "3c2754a9-60f6-4759-8ddb-239540e0c96e",
   "metadata": {},
   "outputs": [
    {
     "name": "stdout",
     "output_type": "stream",
     "text": [
      "rustc 1.86.0 (05f9846f8 2025-03-31)\n",
      "cargo 1.86.0 (adf9b6ad1 2025-02-28)\n"
     ]
    }
   ],
   "source": [
    "import os\n",
    "os.environ['PATH'] = f\"/root/.cargo/bin:{os.environ['PATH']}\"  # Add the Rust path to the environment variable\n",
    "\n",
    "# validate\n",
    "!rustc --version\n",
    "!cargo --version"
   ]
  },
  {
   "cell_type": "code",
   "execution_count": 37,
   "id": "98339f37-99d1-425e-ba43-6ad81a137448",
   "metadata": {},
   "outputs": [
    {
     "name": "stdout",
     "output_type": "stream",
     "text": [
      "CUDA Available: True\n",
      "GPU Name: NVIDIA GeForce RTX 3090\n",
      "current device: cuda\n"
     ]
    }
   ],
   "source": [
    "import torch\n",
    "\n",
    "# Check if CUDA is available\n",
    "print(\"CUDA Available:\", torch.cuda.is_available())  \n",
    "print(\"GPU Name:\", torch.cuda.get_device_name(0))  \n",
    "\n",
    "# Check if GPU is available\n",
    "assert torch.cuda.is_available(), \"GPU is not available, please check hardware or driver!\"\n",
    "device = torch.device(\"cuda\")  # Forcing the use of the GPU\n",
    "print(f\"current device: {device}\")"
   ]
  },
  {
   "cell_type": "markdown",
   "id": "b2084a98-b840-4b82-a934-3ac39f752d1a",
   "metadata": {},
   "source": [
    "## 3.Text Preprocessing"
   ]
  },
  {
   "cell_type": "code",
   "execution_count": 38,
   "id": "95cab0a0-4996-4642-b6cd-0e6a28253dd6",
   "metadata": {},
   "outputs": [],
   "source": [
    "from transformers import BertTokenizer\n",
    "import numpy as np\n",
    "from sklearn.model_selection import train_test_split\n",
    "\n",
    "# Defining the tokenizer\n",
    "tokenizer = BertTokenizer.from_pretrained('bert-base-uncased')\n",
    "\n",
    "# GPU Encoding Functions \n",
    "def bert_encode(texts, max_length=128):\n",
    "    \"\"\"Encoding text into GPU tensor\"\"\"\n",
    "    encodings = tokenizer(\n",
    "        texts.tolist(),\n",
    "        truncation=True,\n",
    "        padding='max_length',\n",
    "        max_length=max_length,\n",
    "        return_tensors='pt'  # Return the PyTorch tensor\n",
    "    )\n",
    "    return encodings\n",
    "\n",
    "# Numerical Labeling \n",
    "texts = cleaned_data['text'] # Extract text\n",
    "labels = cleaned_data['sentiment_label'].map({'Negative': 0, 'Positive': 1}) # Extract labels\n",
    "\n",
    "# Divide training set/validation set\n",
    "train_texts, val_texts, train_labels, val_labels = train_test_split(\n",
    "    texts, labels, test_size=0.2, random_state=42\n",
    ")\n",
    "\n",
    "# GPU encoded text\n",
    "train_encodings = bert_encode(train_texts) \n",
    "val_encodings = bert_encode(val_texts)"
   ]
  },
  {
   "cell_type": "markdown",
   "id": "db3d4b7a-bdeb-4d91-875e-a3d7c5f95258",
   "metadata": {},
   "source": [
    "## 4. Processing data imbalance"
   ]
  },
  {
   "cell_type": "code",
   "execution_count": 39,
   "id": "24dcd65c-fe03-4e9d-adbc-c50e6e99531e",
   "metadata": {},
   "outputs": [],
   "source": [
    "from sklearn.utils.class_weight import compute_class_weight\n",
    "\n",
    "# Calculation of category weights \n",
    "class_weights = compute_class_weight(\n",
    "    class_weight='balanced',\n",
    "    classes=np.unique(train_labels),\n",
    "    y=train_labels\n",
    ")# Use the compute_class_weight function to compute class weights.\n",
    "# class_weight='balanced': specifies that the weight calculation method is 'balanced',\n",
    "# which will automatically calculate the weights based on the number of samples in each class, making each class contribute equally to the total loss.\n",
    "# Load the weight tensor to the GPU\n",
    "class_weights = torch.tensor(class_weights, dtype=torch.float)"
   ]
  },
  {
   "cell_type": "markdown",
   "id": "23c911d3-030a-4353-84ed-42c9564724ee",
   "metadata": {},
   "source": [
    "## 5. Save preprocessed data"
   ]
  },
  {
   "cell_type": "code",
   "execution_count": 40,
   "id": "43337bbc-19c7-4965-be9a-eb8119da71eb",
   "metadata": {},
   "outputs": [],
   "source": [
    "from torch.utils.data import Dataset\n",
    "\n",
    "# Defining the GPU Dataset\n",
    "class TweetDataset(Dataset):\n",
    "    def __init__(self, encodings, labels):        \n",
    "        self.encodings = encodings \n",
    "        self.labels = labels\n",
    "        \n",
    "    def __getitem__(self, idx):\n",
    "        item = {key: val[idx] for key, val in self.encodings.items()}\n",
    "        item['labels'] = self.labels[idx]  \n",
    "        return item\n",
    "\n",
    "    def __len__(self):\n",
    "        return len(self.labels)\n",
    "\n",
    "# Create a Dataset and save it\n",
    "train_labels_tensor = torch.tensor(train_labels.values)\n",
    "val_labels_tensor = torch.tensor(val_labels.values)\n",
    "train_dataset = TweetDataset(train_encodings, train_labels_tensor)\n",
    "val_dataset = TweetDataset(val_encodings, val_labels_tensor)\n",
    "# Save Dataset (contains GPU tensor, needs to be on the same device when loaded)\n",
    "torch.save(train_dataset, 'train_dataset.pt')\n",
    "torch.save(val_dataset, 'val_dataset.pt')\n",
    "\n",
    "# Save raw data after cleaning\n",
    "cleaned_data.to_csv('cleaned_tweets.csv', index=False)"
   ]
  },
  {
   "cell_type": "markdown",
   "id": "357d4a00-702c-4458-a88c-ff7e52eaf213",
   "metadata": {},
   "source": [
    "# III、Model training and fine-tuning"
   ]
  },
  {
   "cell_type": "markdown",
   "id": "d93f16c3-3318-426b-ad70-6690311c6ce5",
   "metadata": {},
   "source": [
    "## 1. Loading pre-trained BERT models"
   ]
  },
  {
   "cell_type": "code",
   "execution_count": 41,
   "id": "affa1eee-78e7-4771-8801-68f35ca0bc66",
   "metadata": {},
   "outputs": [
    {
     "name": "stderr",
     "output_type": "stream",
     "text": [
      "/root/miniconda3/envs/mypytorch2.0/lib/python3.9/site-packages/torch/_utils.py:776: UserWarning: TypedStorage is deprecated. It will be removed in the future and UntypedStorage will be the only storage class. This should only matter to you if you are using storages directly.  To access UntypedStorage directly, use tensor.untyped_storage() instead of tensor.storage()\n",
      "  return self.fget.__get__(instance, owner)()\n",
      "Some weights of BertForSequenceClassification were not initialized from the model checkpoint at bert-base-uncased and are newly initialized: ['classifier.bias', 'classifier.weight']\n",
      "You should probably TRAIN this model on a down-stream task to be able to use it for predictions and inference.\n"
     ]
    }
   ],
   "source": [
    "from transformers import BertForSequenceClassification, TrainingArguments, Trainer\n",
    "from transformers import EarlyStoppingCallback\n",
    "\n",
    "# Use BertForSequenceClassification to load the pre-trained BERT model and specify the number of output labels (binary classification problem).\n",
    "model = BertForSequenceClassification.from_pretrained(\n",
    "    'bert-base-uncased',\n",
    "    num_labels=2\n",
    ").to(device) "
   ]
  },
  {
   "cell_type": "markdown",
   "id": "9c5cec23-d6e2-4a50-8802-54deeebf36dc",
   "metadata": {},
   "source": [
    "## 2. Configuring Training Parameters"
   ]
  },
  {
   "cell_type": "code",
   "execution_count": 42,
   "id": "b5be0ad1-e5ee-4dfb-a430-6b7f181c19e2",
   "metadata": {},
   "outputs": [
    {
     "name": "stderr",
     "output_type": "stream",
     "text": [
      "/root/miniconda3/envs/mypytorch2.0/lib/python3.9/site-packages/transformers/training_args.py:1594: FutureWarning: `evaluation_strategy` is deprecated and will be removed in version 4.46 of 🤗 Transformers. Use `eval_strategy` instead\n",
      "  warnings.warn(\n"
     ]
    }
   ],
   "source": [
    "# Configure training parameters via TrainingArguments, including number of training rounds, batch size, learning rate, weight decay, and so on.\n",
    "# Enable mixed-precision training to speed up the training process and reduce the memory usage.\n",
    "# Specify the evaluation strategy and saving strategy.\n",
    "training_args = TrainingArguments(\n",
    "    output_dir='./results',\n",
    "    num_train_epochs=3,  # 3w+ data volume is usually 3-5 epochs, 3 is also sufficient\n",
    "    per_device_train_batch_size=25,  # Because my GPU memory is RTX 3090, I can set the training batch size to 16-64, but too small is too slow, too big is faster but may reduce the model generalization ability).\n",
    "    per_device_eval_batch_size=50,  # Usually set to 2x the training batch\n",
    "    evaluation_strategy=\"epoch\",\n",
    "    save_strategy=\"epoch\",\n",
    "    logging_dir='./logs',\n",
    "    fp16=True,  # Enable mixed precision (requires GPU support)\n",
    "    learning_rate=1e-4,\n",
    "    weight_decay=0.01,\n",
    "    load_best_model_at_end=True,\n",
    "    metric_for_best_model=\"f1\")"
   ]
  },
  {
   "cell_type": "markdown",
   "id": "a10b1104-88b8-440b-bbc1-34ce7edea8f9",
   "metadata": {},
   "source": [
    "## 3. Definition of assessment indicators"
   ]
  },
  {
   "cell_type": "code",
   "execution_count": 43,
   "id": "f59cee44-eacf-4c50-bb57-7a1c233b6e25",
   "metadata": {},
   "outputs": [],
   "source": [
    "# Define evaluation metrics functions to calculate accuracy and F1 scores.\n",
    "from sklearn.metrics import accuracy_score, f1_score\n",
    "\n",
    "def compute_metrics(pred):\n",
    "    labels = pred.label_ids # Extracts the real labels (label_ids) from the EvalPrediction object. \n",
    "    preds = pred.predictions.argmax(-1) # Extracts the predicted category index from the predictions property of the EvalPrediction object.\n",
    "    return {\n",
    "        \"accuracy\": accuracy_score(labels, preds),\n",
    "        \"f1\": f1_score(labels, preds, average='weighted')\n",
    "    }"
   ]
  },
  {
   "cell_type": "markdown",
   "id": "b3b6873a-9d1a-4698-9d99-7b59936cefac",
   "metadata": {},
   "source": [
    "## 4. Create Trainer and train"
   ]
  },
  {
   "cell_type": "code",
   "execution_count": 44,
   "id": "e93e81fc-46f7-4925-8cb4-99007002dd1f",
   "metadata": {},
   "outputs": [
    {
     "data": {
      "text/html": [
       "\n",
       "    <div>\n",
       "      \n",
       "      <progress value='3171' max='3171' style='width:300px; height:20px; vertical-align: middle;'></progress>\n",
       "      [3171/3171 04:16, Epoch 3/3]\n",
       "    </div>\n",
       "    <table border=\"1\" class=\"dataframe\">\n",
       "  <thead>\n",
       " <tr style=\"text-align: left;\">\n",
       "      <th>Epoch</th>\n",
       "      <th>Training Loss</th>\n",
       "      <th>Validation Loss</th>\n",
       "      <th>Accuracy</th>\n",
       "      <th>F1</th>\n",
       "    </tr>\n",
       "  </thead>\n",
       "  <tbody>\n",
       "    <tr>\n",
       "      <td>1</td>\n",
       "      <td>0.168800</td>\n",
       "      <td>0.126022</td>\n",
       "      <td>0.955646</td>\n",
       "      <td>0.955567</td>\n",
       "    </tr>\n",
       "    <tr>\n",
       "      <td>2</td>\n",
       "      <td>0.069900</td>\n",
       "      <td>0.123872</td>\n",
       "      <td>0.963064</td>\n",
       "      <td>0.962888</td>\n",
       "    </tr>\n",
       "    <tr>\n",
       "      <td>3</td>\n",
       "      <td>0.016400</td>\n",
       "      <td>0.157279</td>\n",
       "      <td>0.968059</td>\n",
       "      <td>0.968048</td>\n",
       "    </tr>\n",
       "  </tbody>\n",
       "</table><p>"
      ],
      "text/plain": [
       "<IPython.core.display.HTML object>"
      ]
     },
     "metadata": {},
     "output_type": "display_data"
    }
   ],
   "source": [
    "# Create a Trainer object, passing in the model, training parameters, training dataset, validation dataset, evaluation metrics function, and callback function (e.g., early stop).\n",
    "trainer = Trainer(\n",
    "    model=model,\n",
    "    args=training_args,\n",
    "    train_dataset=train_dataset, # Training dataset\n",
    "    eval_dataset=val_dataset, # Validation dataset\n",
    "    compute_metrics=compute_metrics, # Calculation of assessment indicators\n",
    "    callbacks=[EarlyStoppingCallback(early_stopping_patience=2)] # Model performance was monitored on the validation set with Early Stopping\n",
    ")\n",
    "\n",
    "# Initiate GPU training\n",
    "trainer.train()\n",
    "\n",
    "# Preservation of optimal models\n",
    "trainer.save_model(\"best_model\")  "
   ]
  },
  {
   "cell_type": "markdown",
   "id": "260953c1-3b0d-418f-80c2-f6098af57168",
   "metadata": {},
   "source": [
    "# IV、Model Evaluation"
   ]
  },
  {
   "cell_type": "code",
   "execution_count": 45,
   "id": "bc6bba19-7595-43d6-ad3e-c9571d43e107",
   "metadata": {},
   "outputs": [
    {
     "data": {
      "text/html": [],
      "text/plain": [
       "<IPython.core.display.HTML object>"
      ]
     },
     "metadata": {},
     "output_type": "display_data"
    },
    {
     "name": "stdout",
     "output_type": "stream",
     "text": [
      "Classification Report:\n",
      "              precision    recall  f1-score   support\n",
      "\n",
      "    Negative       0.96      0.95      0.95      2308\n",
      "    Positive       0.97      0.98      0.98      4298\n",
      "\n",
      "    accuracy                           0.97      6606\n",
      "   macro avg       0.97      0.96      0.96      6606\n",
      "weighted avg       0.97      0.97      0.97      6606\n",
      "\n"
     ]
    },
    {
     "data": {
      "image/png": "[encoded data removed]",
      "text/plain": [
       "<Figure size 640x480 with 2 Axes>"
      ]
     },
     "metadata": {},
     "output_type": "display_data"
    }
   ],
   "source": [
    "# Load test data to GPU\n",
    "test_encodings = bert_encode(val_texts)  \n",
    "test_labels_tensor = torch.tensor(val_labels.values)\n",
    "test_dataset = TweetDataset(test_encodings, test_labels_tensor)\n",
    "\n",
    "# GPU reasoning\n",
    "predictions = trainer.predict(test_dataset)\n",
    "\n",
    "# Move predictions back to CPU to compute metrics (sklearn does not support GPUs)\n",
    "preds = np.argmax(predictions.predictions, axis=-1)\n",
    "labels = predictions.label_ids\n",
    "\n",
    "# Generate classification reports\n",
    "from sklearn.metrics import classification_report, confusion_matrix\n",
    "\n",
    "print(\"Classification Report:\")\n",
    "print(classification_report(labels, preds, target_names=[\"Negative\", \"Positive\"]))\n",
    "\n",
    "# Drawing the confusion matrix\n",
    "import matplotlib.pyplot as plt\n",
    "from sklearn.metrics import ConfusionMatrixDisplay\n",
    "\n",
    "cm = confusion_matrix(labels, preds)\n",
    "disp = ConfusionMatrixDisplay(confusion_matrix=cm, display_labels=[\"Negative\", \"Positive\"])\n",
    "disp.plot(cmap=plt.cm.Blues)\n",
    "plt.title(\"Confusion Matrix (Test Set)\")\n",
    "plt.savefig(\"confusion_matrix.png\")\n",
    "plt.show()"
   ]
  },
  {
   "cell_type": "markdown",
   "id": "dfd1bdd8-5ef9-4b8c-8923-ec58a402d45f",
   "metadata": {},
   "source": [
    "# V、Summary and analysis"
   ]
  },
  {
   "cell_type": "markdown",
   "id": "866aa8d8-c96a-4887-8b74-e5901b5f8c02",
   "metadata": {},
   "source": [
    "## 1. Data challenges and pre-processing steps"
   ]
  },
  {
   "cell_type": "markdown",
   "id": "95011834-093c-4987-a1f1-753211689545",
   "metadata": {},
   "source": [
    "Data Challenge:\n",
    "\n",
    "I've been looking for more than 20 datasets on kaggle and Hugging Face, and finally found a 7w+ dataset about Classifying tweets on crypto coins and labeled (bullish vs. bearish sentiment). Because I want to train with BERT, it has many parameters, so the amount of data needed is also larger.\n",
    "    This kind of text data will have noises like User Mentions, links, special symbols, spelling errors, etc. and need to be cleaned. And the dataset may be unbalanced (e.g. large gap between the number of positive and negative samples) and needs to be balanced.\n",
    "\n",
    "Preprocessing Steps:\n",
    "\n",
    "Firstly, data cleaning is carried out, and the words with positive and negative attitudes are selected for binary classification model training, and then special words, user names, Links, and non-English text data are removed.\n",
    "    Then the text preprocessing is performed, using BertTokenizer in Hugging Face's transformers library to split and encode the text, and set the maximum sequence length (e.g., max_length=128), truncate the excessively long text, and fill in the short text to ensure that all the input sequences are of the same length, so that they can be batch processed and fed into the model. The training and validation sets are then divided.\n",
    "    The data imbalance is then dealt with and the class weights are calculated using the class_weight='balanced' parameter.\n",
    "    Finally the text encoding and labeling, with the training and validation datasets are saved into the TweetDataset dataset."
   ]
  },
  {
   "cell_type": "markdown",
   "id": "cf3d053b-5e16-4b91-a2e0-e021e02a4050",
   "metadata": {},
   "source": [
    "## 2. Model hyperparameters and architecture selection"
   ]
  },
  {
   "cell_type": "markdown",
   "id": "0fce8669-bf93-4d22-9472-8f88d3bc613b",
   "metadata": {},
   "source": [
    "Hyperparameter selection:\n",
    "\n",
    "The parameters of the model include the number of rounds of training, the batch size for each training step, the batch size for each evaluation step, the learning rate, and the weight decay.\n",
    "After querying, according to my data volume of 3w+ and using BERT to run on GPU, the number of training rounds is 3-5 rounds is reasonable, so I chose 3 rounds, the batch size of each training step is 16-64, too small is too slow, too big is faster but may reduce the model generalization ability, so I chose 25 times, the batch size of each evaluation step is twice the batch size of the training step, so I chose 50.\n",
    "The learning rate is to control the step size of the model weight update, after querying 1e-3, 1e-4, 2e-5 are good, I chose 1e-4. weight decay is to prevent the model overfitting, after querying I chose 0.01.\n",
    "\n",
    "Architecture Selection:\n",
    "\n",
    "The BERT model was chosen as the underlying architecture. First, I configured the training parameters such as the number of training rounds, logging_dir, fp16, learning_rate, etc. Then we created the Trainer object and passed in the pre-trained BERT model, the training parameters, the evaluation metrics computation function and the dataset. Then start training, and save the best model after training."
   ]
  },
  {
   "cell_type": "markdown",
   "id": "015c3706-d0e4-42ab-947f-00a06048339b",
   "metadata": {},
   "source": [
    "## 3. Obstacles and solutions encountered"
   ]
  },
  {
   "cell_type": "markdown",
   "id": "e42bfda9-9bdd-4c0d-a27d-4a4a6174f800",
   "metadata": {},
   "source": [
    "I encountered some problems in model training and solved them efficiently. Because the batch size of each training step and the batch size of each evaluation step that can be run at the same time is too small because of the low GPU version, the training was slow, so I rented NVIDIA RTX 3090 (24GB) GPU resources from Autodl platform to fine-tune the model. Because there was an imbalance in the data, I automatically calculated the weights based on the number of samples in each category so that each category's weight was inversely proportional to its number of samples. Because of the concern about model overfitting, I added an early stopping mechanism. When GPU memory was low, I deleted some files from the system disk ...\n"
   ]
  },
  {
   "cell_type": "markdown",
   "id": "d3dbb658-9a4a-4b58-b74d-7ef09c1157a6",
   "metadata": {},
   "source": [
    "## 4. Potential improvements or future directions"
   ]
  },
  {
   "cell_type": "markdown",
   "id": "a410a560-53b1-451b-8513-9745cf6bf0cb",
   "metadata": {},
   "source": [
    "Directions that can be improved:\n",
    "\n",
    "1.data enhancement: try to use data enhancement techniques such as synonym replacement, random insertion etc. to increase data diversity. Also validate my model with different dataset. Also try more sophisticated text cleaning strategies (e.g., deactivation word removal, stemming extraction, etc.).\n",
    "\n",
    "2.Model experimentation: try other pre-trained models such as RoBERTa, BERTweet and LSTM for fine-tuning, which also have their own advantages. Experiments can also be conducted using larger models such as BERT-large or smaller models such as DistilBERT, while the size of the experimental data also changes.\n",
    "\n",
    "3.Parameter optimization: Adjust the parameters to do several sets of experiments to find the trend of accuracy change with the parameter change, such as epoches number of times to increase and decrease to see the change, to find the most suitable parameters.\n",
    "\n",
    "4.Evaluation indicators: In addition to the classification report and confusion matrix, you can also try to calculate the AUC-ROC curve or PR curve to further analyze the model performance."
   ]
  }
 ],
 "metadata": {
  "kernelspec": {
   "display_name": "mypytorch2.0",
   "language": "python",
   "name": "mypytorch2.0"
  },
  "language_info": {
   "codemirror_mode": {
    "name": "ipython",
    "version": 3
   },
   "file_extension": ".py",
   "mimetype": "text/x-python",
   "name": "python",
   "nbconvert_exporter": "python",
   "pygments_lexer": "ipython3",
   "version": "3.9.21"
  }
 },
 "nbformat": 4,
 "nbformat_minor": 5
}
